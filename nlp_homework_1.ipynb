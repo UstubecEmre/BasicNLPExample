{
 "cells": [
  {
   "cell_type": "markdown",
   "id": "34ed4f1b",
   "metadata": {},
   "source": [
    "# 1. Business Understanding (İşin Anlaşılması):\n",
    "\n",
    "Basit bir metin üzerinde Doğal Dil İşleme uygulaması gerçekleştireceğiz.\n",
    "\n",
    "Burada istenilen konuların pekiştirilmesi amaçlanmaktadır.\n",
    "\n",
    "> O konular da şu şekildedir:\n",
    "\n",
    "Metin üzerinde veri ön işleme aşamalarının gerçekleştirilmesi amaçlanmaktadır.\n",
    "\n",
    "Bu ön işleme adımları şu şekilde olabilir:\n",
    "\n",
    "-- Fazla boşlukların silinmesi, \n",
    "\n",
    "-- Büyük küçük harf dönüşümleri\n",
    "\n",
    "-- Noktalama işaretlerinin kaldırılması (Removing Punctuation)\n",
    "\n",
    "-- Özel karakterlerin kaldırılması\n",
    "\n",
    "-- Yazım hatalarının düzeltilmesi\n",
    "\n",
    "-- HTML ve URL temizleme işlemleri\n",
    "\n",
    "\n",
    "> Önemli Notlar:\n",
    "\n",
    "<mark><em>Removing Stopwords</em></mark> → Genellikle metin içerisinde anlamı çok az olan yani etkisi çok sınırlı, edat, bağlaç vb. cümlenin ögeleridir. \"the\",\"with\", \"on\", \"at\" etc. örnek verilebilir.\n",
    "\n",
    "\n",
    "Sonraki aşamalardan birisi de\n",
    "\n",
    "> \n",
    "<mark><em>Tokenizasyon</em></mark>: \n",
    "\n",
    "Metni daha küçük parçalara ayırma işlemidir.\n",
    "\n",
    "Bunlar bildiğiniz üzere farklı şekilde ayrılabilir.\n",
    "\n",
    "Kelime kelime, cümle cümle veya karakter karakter gibi ayrımlar yapılabilir.\n",
    "\n",
    "\n",
    "<mark><em>Lemmatization</em></mark>:\n",
    "\n",
    "Doğal Dil İşlemede (NLP) kullanılan önemli bir tekniktir. \n",
    "\n",
    "Bu işlemin temel amacı, kelimelerin farklı çekimli hallerini (çoğul, geçmiş zaman vb.) onların sözlükteki temel formuna yani \"lemma\"'sına indirgemektir.\n",
    "\n",
    "Örneğin: \"yüzüyor\", \"yüzdüm\", \"yüzecek\" kelimelerinin yüzmek olarak kök formunu bulacaktır.\n",
    "\n",
    "> Note:\n",
    "\n",
    "Bu teknik, kelimeleri sadece eklerinden arındırmak yerine, onların cümle içindeki anlamına ve gramer yapısına bakarak en doğru kök formu bulmaya çalışır.\n",
    "\n",
    "Bir diğer kavram olarak da karşımıza Lemmatization <mark><b>(Gövdeleme)</b></mark> ve <mark><b>Stemming (Kök Bulmak)</b></mark> çıkmaktadır:\n",
    "\n",
    "Bildiğiniz üzere dilimizde de kök, gövde gibi kavramlar bulunmaktadır.İlkokul veya ortaokul yıllarımıza dönersek:\n",
    "\n",
    "=> Yapım eki almamış ve başka bir sözcükle birleşmemiş sözcükler köktür. \n",
    "\n",
    "Örneğin sev\n",
    "\n",
    "=> Yapım eki almış ya da başka bir sözcükle birleşmiş sözcükler gövdedir.\n",
    "\n",
    "Örneğin sevgi\n",
    "\n",
    "\n",
    "İlerleyen aşamalarda da:\n",
    "\n",
    "- Named Entity Recognition (NER) → Kişi adları, yer adları, kurumlar vb. tespitinin gerçekleştirilmesi\n",
    "\n",
    "- Part-of-Speech (POS) Tagging → Her kelimenin türünün belirlenmesi (isim mi, fiil mi, sıfat mı, zarf mı...)\n",
    "\n",
    "- Word Frequency Count → En sık geçen kelimelerin tespit edilmesi\n",
    "\n",
    "- Text Visualization → Word cloud, bar chart vb. görselleştirme teknikleri veya araçlarıyla kelimelerin görselleştirilmesi\n",
    "\n"
   ]
  },
  {
   "cell_type": "code",
   "execution_count": 1,
   "id": "62eaeea5",
   "metadata": {},
   "outputs": [
    {
     "name": "stderr",
     "output_type": "stream",
     "text": [
      "[nltk_data] Downloading package punkt to\n",
      "[nltk_data]     C:\\Users\\Asus\\AppData\\Roaming\\nltk_data...\n",
      "[nltk_data]   Unzipping tokenizers\\punkt.zip.\n",
      "[nltk_data] Downloading package wordnet to\n",
      "[nltk_data]     C:\\Users\\Asus\\AppData\\Roaming\\nltk_data...\n",
      "[nltk_data] Downloading package omw-1.4 to\n",
      "[nltk_data]     C:\\Users\\Asus\\AppData\\Roaming\\nltk_data...\n"
     ]
    }
   ],
   "source": [
    "# import required libraries (Gerekli kutuphane kurulumlari)\n",
    "\n",
    "# for linear algebra (lineer cebir icin)\n",
    "import numpy as np\n",
    "\n",
    "# for data manipulation (veri manipulasyonu)\n",
    "import pandas as pd\n",
    "\n",
    "# for data visualization\n",
    "import matplotlib.pyplot as plt\n",
    "import seaborn as sns #\n",
    "\n",
    "# for NLP\n",
    "import nltk\n",
    "nltk.download('punkt')\n",
    "nltk.download('wordnet')\n",
    "nltk.download('omw-1.4')\n",
    "\n",
    "\n",
    "# for word preprocessing\n",
    "from textblob import Word, TextBlob\n",
    "\n",
    "# for word visualization\n",
    "from wordcloud import WordCloud \n",
    "\n",
    "# set warning options \n",
    "from warnings import filterwarnings\n",
    "filterwarnings('ignore')"
   ]
  },
  {
   "cell_type": "markdown",
   "id": "e8870244",
   "metadata": {},
   "source": [
    "# 2. Data Understanding (Verinin Anlaşılması):\n",
    "NLP (Natural Language Processing = Doğal Dil İşleme) alanına benim gibi yeni başlayanlar için faydalı olacağını düşündüğüm bir konferans konuşmasının analiz edilmesini içermektedir.\n",
    "\n",
    "Emily Watson tarafından gerçekleştirilen konferansta özetle, doğal dil işleme kütüphaneleri sayesinde çok fazla finansal güce sahip olunmasının gerekli olmadığı, katıldığı çeşitli etkinliklerde yapay zekanın gelecekteki işbirlik fırsatlarına yönelik tartışmalarda bulunduğu ve bunun çeşitli platformlarda etki bıraktığı olarak özetleyebilirim."
   ]
  },
  {
   "cell_type": "code",
   "execution_count": null,
   "id": "32b4ab89",
   "metadata": {},
   "outputs": [],
   "source": [
    "example_str = '''On January 3rd, 2023, Dr. Emily Watson, a senior data scientist at GreenAI Inc., gave a keynote speech at the International Conference on Artificial Intelligence in Paris, France. During her talk, she emphasized the importance of ethical AI and data privacy, citing recent cases of misuse in various industries.\n",
    "\n",
    "She mentioned that over 3.2 million users were affected by a data breach last year, resulting in damages estimated at $12.5 million. Furthermore, she highlighted the role of open-source libraries, such as spaCy and NLTK, in democratizing access to natural language processing tools. According to her, students and researchers can now build high-quality NLP models without needing large financial resources.\n",
    "\n",
    "\"AI is not just about machines,\" she said, \"it's about how we interact with technology in a human-centered way.\" After the session, attendees from universities like Stanford, MIT, and Oxford approached her to discuss future collaboration opportunities.\n",
    "\n",
    "At 5:45 PM, she posted a summary of her speech on Twitter, receiving over 8,000 likes and 1,200 retweets within a few hours. Her tweet included hashtags like #AIethics, #DataPrivacy, and #NLPtools.\n",
    "\n",
    "The event concluded with a panel discussion moderated by Mr. John Lee, a journalist from TechWorld Weekly, who asked, “How can governments regulate AI without stifling innovation?''' "
   ]
  },
  {
   "cell_type": "markdown",
   "id": "689bea45",
   "metadata": {},
   "source": [
    "# 3. Data Preparing and Preprocessing (Verinin Hazırlanması ve Önişlenmesi):\n",
    "Verimizi, işin anlaşılması kısmında da dile getirdiğimiz gibi makinenin anlayabileceği bir formata getirmemiz gerekmektedir. \n",
    "\n",
    "Makineler, 0 ve 1'lerden anlar diye boşuna demiyorlar:)"
   ]
  },
  {
   "cell_type": "code",
   "execution_count": 4,
   "id": "f40349cf",
   "metadata": {},
   "outputs": [
    {
     "name": "stdout",
     "output_type": "stream",
     "text": [
      "Data size without pre-processing (Veri önişleme öncesi boyutu): 1353\n"
     ]
    }
   ],
   "source": [
    "example_str_len = len(example_str)\n",
    "print(f\"Data size without pre-processing (Veri önişleme öncesi boyutu): {example_str_len}\")"
   ]
  },
  {
   "cell_type": "code",
   "execution_count": null,
   "id": "7c35131a",
   "metadata": {},
   "outputs": [
    {
     "name": "stdout",
     "output_type": "stream",
     "text": [
      "Converted String:\n",
      " on january 3rd, 2023, dr. emily watson, a senior data scientist at greenai inc., gave a keynote speech at the international conference on artificial intelligence in paris, france. during her talk, she emphasized the importance of ethical ai and data privacy, citing recent cases of misuse in various industries.\n",
      "\n",
      "she mentioned that over 3.2 million users were affected by a data breach last year, resulting in damages estimated at $12.5 million. furthermore, she highlighted the role of open-source libraries, such as spacy and nltk, in democratizing access to natural language processing tools. according to her, students and researchers can now build high-quality nlp models without needing large financial resources.\n",
      "\n",
      "\"ai is not just about machines,\" she said, \"it’s about how we interact with technology in a human-centered way.\" after the session, attendees from universities like stanford, mit, and oxford approached her to discuss future collaboration opportunities.\n",
      "\n",
      "at 5:45 pm, she posted a summary of her speech on twitter, receiving over 8,000 likes and 1,200 retweets within a few hours. her tweet included hashtags like #aiethics, #dataprivacy, and #nlptools.\n",
      "\n",
      "the event concluded with a panel discussion moderated by mr. john lee, a journalist from techworld weekly, who asked, “how can governments regulate ai without stifling innovation?\n",
      "**************************************************************************************************** \n",
      "\n",
      "Length of Lower Example: 1353\n"
     ]
    }
   ],
   "source": [
    "# 3.1. Convert all to lowercase (Hepsini kucuk harfe donustur)\n",
    "lower_example_str = example_str.lower()\n",
    "print(\"Converted String:\\n\", lower_example_str)\n",
    "print(\"*\"*100,\"\\n\")\n",
    "len_lower_example_str = len(lower_example_str)\n",
    "print(f\"Length of Lower Example: {len_lower_example_str}\")"
   ]
  },
  {
   "cell_type": "code",
   "execution_count": null,
   "id": "b503a52e",
   "metadata": {},
   "outputs": [
    {
     "name": "stdout",
     "output_type": "stream",
     "text": [
      "Punctuations: !\"#$%&'()*+,-./:;<=>?@[\\]^_`{|}~\n"
     ]
    }
   ],
   "source": [
    "# 3.2. Remove punctuations (Ozel isaretlerin kaldirilmasi)\n",
    "from string import punctuation\n",
    "\n",
    "print(f\"Punctuations: {punctuation}\")\n",
    "\n",
    "\n",
    "#trimmed_str = lower_example_str.strip()\n",
    "#trimmed_str"
   ]
  },
  {
   "cell_type": "markdown",
   "id": "551e4528",
   "metadata": {},
   "source": [
    "\"\"\"\n",
    "\n",
    "Some Basic RegEx (Bazı Basit Regular Expression'lar)\n",
    "<mark>regex (regular expressions)</mark>\n",
    "\n",
    "    ^ => starts with (baslar)\n",
    "\n",
    "    $ => ends with (biter)\n",
    "    \n",
    "    \\w => Returns a match where the string contains any word characters \n",
    "        (characters from a to Z, digits from 0-9, and the underscore _ character) (alfanumerikleri (0-9, a-Z) döndürür)    \n",
    "    \n",
    "    \\W => \tReturns a match where the string DOES NOT contain any word characters\n",
    "    \n",
    "    \\s =>\tReturns a match where the string contains a white space character (Space yani bosluk karakterini ifade eder)\n",
    "    \n",
    "    [] => \tA set of characters example \t\"[a-m]\" => Bir karakter setini ifade eder. Örnekte de a'dan m'ye kadar anlamına gelir.\n",
    "\"\"\""
   ]
  },
  {
   "cell_type": "code",
   "execution_count": 19,
   "id": "ffdce048",
   "metadata": {},
   "outputs": [
    {
     "name": "stdout",
     "output_type": "stream",
     "text": [
      "String Without Punctuation Marks (Noktalama Isaretsiz Metin):\n",
      "\n",
      " on january 3rd 2023 dr emily watson a senior data scientist at greenai inc gave a keynote speech at the international conference on artificial intelligence in paris france during her talk she emphasized the importance of ethical ai and data privacy citing recent cases of misuse in various industries\n",
      "\n",
      "she mentioned that over 32 million users were affected by a data breach last year resulting in damages estimated at 125 million furthermore she highlighted the role of opensource libraries such as spacy and nltk in democratizing access to natural language processing tools according to her students and researchers can now build highquality nlp models without needing large financial resources\n",
      "\n",
      "ai is not just about machines she said its about how we interact with technology in a humancentered way after the session attendees from universities like stanford mit and oxford approached her to discuss future collaboration opportunities\n",
      "\n",
      "at 545 pm she posted a summary of her speech on twitter receiving over 8000 likes and 1200 retweets within a few hours her tweet included hashtags like aiethics dataprivacy and nlptools\n",
      "\n",
      "the event concluded with a panel discussion moderated by mr john lee a journalist from techworld weekly who asked how can governments regulate ai without stifling innovation\n"
     ]
    }
   ],
   "source": [
    "import re \n",
    "\n",
    "non_punctuation_str = re.sub(r\"[^\\w\\s]\", \"\",lower_example_str)\n",
    "print(f\"String Without Punctuation Marks (Noktalama Isaretsiz Metin):\\n\\n {non_punctuation_str}\")"
   ]
  },
  {
   "cell_type": "code",
   "execution_count": 20,
   "id": "4f519ccb",
   "metadata": {},
   "outputs": [
    {
     "name": "stdout",
     "output_type": "stream",
     "text": [
      "Length of string without punctuation marks (Noktalama Isaretsiz Metnin Uzunlugu): 1298\n"
     ]
    }
   ],
   "source": [
    "len_non_puctuation_str = len(non_punctuation_str)\n",
    "print(f\"Length of string without punctuation marks (Noktalama Isaretsiz Metnin Uzunlugu): {len_non_puctuation_str}\")"
   ]
  },
  {
   "cell_type": "code",
   "execution_count": null,
   "id": "2835aad2",
   "metadata": {},
   "outputs": [
    {
     "name": "stdout",
     "output_type": "stream",
     "text": [
      "text with non-numeric punctuation removed (Noktalama Isaretleri ve Sayilar Kaldirilmis Metin): \n",
      "\n",
      "on january rd  dr emily watson a senior data scientist at greenai inc gave a keynote speech at the international conference on artificial intelligence in paris france during her talk she emphasized the importance of ethical ai and data privacy citing recent cases of misuse in various industries\n",
      "\n",
      "she mentioned that over  million users were affected by a data breach last year resulting in damages estimated at  million furthermore she highlighted the role of opensource libraries such as spacy and nltk in democratizing access to natural language processing tools according to her students and researchers can now build highquality nlp models without needing large financial resources\n",
      "\n",
      "ai is not just about machines she said its about how we interact with technology in a humancentered way after the session attendees from universities like stanford mit and oxford approached her to discuss future collaboration opportunities\n",
      "\n",
      "at  pm she posted a summary of her speech on twitter receiving over  likes and  retweets within a few hours her tweet included hashtags like aiethics dataprivacy and nlptools\n",
      "\n",
      "the event concluded with a panel discussion moderated by mr john lee a journalist from techworld weekly who asked how can governments regulate ai without stifling innovation\n",
      "****************************************************************************************************************************************************** \n",
      "\n",
      "Length of Numberless String: 1277\n"
     ]
    }
   ],
   "source": [
    "# 3.3. Remove numbers (Sayilari kaldir)\n",
    "numberless_str = re.sub(r\"\\d+\", \"\", non_punctuation_str)\n",
    "print(\"text with non-numeric punctuation removed (Noktalama Isaretleri ve Sayilar Kaldirilmis Metin): \\n\")\n",
    "print(numberless_str)\n",
    "print(\"*\"*150,\"\\n\")\n",
    "len_numberless_str = len(numberless_str)\n",
    "print(f\"Length of Numberless String (Sayi Icermeyen Metnin Boyutu): {len_numberless_str}\")"
   ]
  },
  {
   "cell_type": "code",
   "execution_count": null,
   "id": "017fae55",
   "metadata": {},
   "outputs": [
    {
     "name": "stdout",
     "output_type": "stream",
     "text": [
      "Without Extra Spaces String:\n",
      "\n",
      " on january rd dr emily watson a senior data scientist at greenai inc gave a keynote speech at the international conference on artificial intelligence in paris france during her talk she emphasized the importance of ethical ai and data privacy citing recent cases of misuse in various industries she mentioned that over million users were affected by a data breach last year resulting in damages estimated at million furthermore she highlighted the role of opensource libraries such as spacy and nltk in democratizing access to natural language processing tools according to her students and researchers can now build highquality nlp models without needing large financial resources ai is not just about machines she said its about how we interact with technology in a humancentered way after the session attendees from universities like stanford mit and oxford approached her to discuss future collaboration opportunities at pm she posted a summary of her speech on twitter receiving over likes and retweets within a few hours her tweet included hashtags like aiethics dataprivacy and nlptools the event concluded with a panel discussion moderated by mr john lee a journalist from techworld weekly who asked how can governments regulate ai without stifling innovation\n",
      "******************************************************************************************************************************************************\n",
      "Length of Without Extra Spaces String: 1267\n"
     ]
    }
   ],
   "source": [
    "# 3.4. Removing extra spaces (Fazla olan boşlukların temizlenmesi):\n",
    "without_extra_spaces_str = re.sub(r'\\s+', ' ', numberless_str)\n",
    "print(f\"Without Extra Spaces String (Extra Bosluksuz Metin):\\n\\n {without_extra_spaces_str}\")\n",
    "\n",
    "print(\"*\"*150)\n",
    "len_without_extra_spaces = len(without_extra_spaces_str)\n",
    "print(f\"Length of Without Extra Spaces String (Extra Bosluksuz Metnin Boyutu): {len_without_extra_spaces}\")"
   ]
  },
  {
   "cell_type": "code",
   "execution_count": null,
   "id": "cec7e411",
   "metadata": {},
   "outputs": [
    {
     "name": "stdout",
     "output_type": "stream",
     "text": [
      "1267\n"
     ]
    }
   ],
   "source": [
    "# Check (Kontrol edelim, basta ve sonda bosluk kaldi mi)\n",
    "without_extra_spaces_str = without_extra_spaces_str.strip()\n",
    "print(len(without_extra_spaces_str))"
   ]
  },
  {
   "cell_type": "code",
   "execution_count": null,
   "id": "4a807c8d",
   "metadata": {},
   "outputs": [
    {
     "name": "stdout",
     "output_type": "stream",
     "text": [
      "Splitted String:\n",
      "\n",
      " ['on', 'january', 'rd', 'dr', 'emily', 'watson', 'a', 'senior', 'data', 'scientist', 'at', 'greenai', 'inc', 'gave', 'a', 'keynote', 'speech', 'at', 'the', 'international', 'conference', 'on', 'artificial', 'intelligence', 'in', 'paris', 'france', 'during', 'her', 'talk', 'she', 'emphasized', 'the', 'importance', 'of', 'ethical', 'ai', 'and', 'data', 'privacy', 'citing', 'recent', 'cases', 'of', 'misuse', 'in', 'various', 'industries', 'she', 'mentioned', 'that', 'over', 'million', 'users', 'were', 'affected', 'by', 'a', 'data', 'breach', 'last', 'year', 'resulting', 'in', 'damages', 'estimated', 'at', 'million', 'furthermore', 'she', 'highlighted', 'the', 'role', 'of', 'opensource', 'libraries', 'such', 'as', 'spacy', 'and', 'nltk', 'in', 'democratizing', 'access', 'to', 'natural', 'language', 'processing', 'tools', 'according', 'to', 'her', 'students', 'and', 'researchers', 'can', 'now', 'build', 'highquality', 'nlp', 'models', 'without', 'needing', 'large', 'financial', 'resources', 'ai', 'is', 'not', 'just', 'about', 'machines', 'she', 'said', 'its', 'about', 'how', 'we', 'interact', 'with', 'technology', 'in', 'a', 'humancentered', 'way', 'after', 'the', 'session', 'attendees', 'from', 'universities', 'like', 'stanford', 'mit', 'and', 'oxford', 'approached', 'her', 'to', 'discuss', 'future', 'collaboration', 'opportunities', 'at', 'pm', 'she', 'posted', 'a', 'summary', 'of', 'her', 'speech', 'on', 'twitter', 'receiving', 'over', 'likes', 'and', 'retweets', 'within', 'a', 'few', 'hours', 'her', 'tweet', 'included', 'hashtags', 'like', 'aiethics', 'dataprivacy', 'and', 'nlptools', 'the', 'event', 'concluded', 'with', 'a', 'panel', 'discussion', 'moderated', 'by', 'mr', 'john', 'lee', 'a', 'journalist', 'from', 'techworld', 'weekly', 'who', 'asked', 'how', 'can', 'governments', 'regulate', 'ai', 'without', 'stifling', 'innovation']\n",
      "Length of Splitted String: 199\n"
     ]
    }
   ],
   "source": [
    "splitted_str = without_extra_spaces_str.split()\n",
    "print(f\"Splitted String (Bosluklardan Bolunmus Metin):\\n\\n {splitted_str}\")\n",
    "\n",
    "len_splitted_str = len(splitted_str)\n",
    "print(f\"Length of Splitted String (Bosluklardan Bolunmus Metnin Uzunlugu): {len_splitted_str}\")"
   ]
  },
  {
   "cell_type": "code",
   "execution_count": 30,
   "id": "355dae90",
   "metadata": {},
   "outputs": [
    {
     "name": "stdout",
     "output_type": "stream",
     "text": [
      "Word Frequency (Kelime Frekanslari)\n",
      "a:8\n",
      "and:6\n",
      "the:5\n",
      "in:5\n",
      "her:5\n",
      "she:5\n",
      "at:4\n",
      "of:4\n",
      "on:3\n",
      "data:3\n",
      "****************************************************************************************************\n"
     ]
    }
   ],
   "source": [
    "# 3.6. Find rare words (Ender Kelimeleri Bul)\n",
    "from collections import Counter\n",
    "\n",
    "word_counts = Counter(splitted_str)\n",
    "print(\"Word Frequency (Kelime Frekanslari)\")\n",
    "for word, frequency in word_counts.most_common(10):\n",
    "    print(f\"{word}:{frequency}\")\n",
    "print(\"*\"*100)"
   ]
  },
  {
   "cell_type": "code",
   "execution_count": 46,
   "id": "9bad34ae",
   "metadata": {},
   "outputs": [
    {
     "name": "stdout",
     "output_type": "stream",
     "text": [
      "  Word  Frequency\n",
      "0    a          8\n",
      "1  and          6\n",
      "2  the          5\n",
      "3   in          5\n",
      "4  her          5\n"
     ]
    },
    {
     "name": "stderr",
     "output_type": "stream",
     "text": [
      "C:\\Users\\Asus\\AppData\\Local\\Temp\\ipykernel_19044\\539006653.py:7: FutureWarning: \n",
      "\n",
      "Passing `palette` without assigning `hue` is deprecated and will be removed in v0.14.0. Assign the `x` variable to `hue` and set `legend=False` for the same effect.\n",
      "\n",
      "  sns.barplot(data = most_common_10_word_df, x = \"Word\",y = \"Frequency\", palette = \"Oranges_d\")\n"
     ]
    },
    {
     "data": {
      "image/png": "[encoded data removed]",
      "text/plain": [
       "<Figure size 800x600 with 1 Axes>"
      ]
     },
     "metadata": {},
     "output_type": "display_data"
    }
   ],
   "source": [
    "most_common_10_word_df = pd.DataFrame(word_counts.most_common(10), columns =[\"Word\",\"Frequency\"])\n",
    "\n",
    "print(most_common_10_word_df.head())\n",
    "\n",
    "\n",
    "plt.figure(figsize = (8,6))\n",
    "sns.barplot(data = most_common_10_word_df, x = \"Word\",y = \"Frequency\", palette = \"Oranges_d\")\n",
    "plt.title(\"Most Common 10 Words (En Cok Tekrar Eden 10 Kelime)\")\n",
    "plt.xlabel(\"Word (Kelime)\")\n",
    "plt.ylabel(\"Frequency (Frekans)\")\n",
    "plt.tight_layout()\n",
    "plt.grid(axis = \"y\", linestyle = \"--\", alpha = 0.4)\n",
    "plt.show()"
   ]
  },
  {
   "cell_type": "code",
   "execution_count": 47,
   "id": "4daafe64",
   "metadata": {},
   "outputs": [
    {
     "name": "stdout",
     "output_type": "stream",
     "text": [
      "Rare Words (Nadir Kelimeler):\n",
      " ['january', 'rd', 'dr', 'emily', 'watson', 'senior', 'scientist', 'greenai', 'inc', 'gave', 'keynote', 'international', 'conference', 'artificial', 'intelligence', 'paris', 'france', 'during', 'talk', 'emphasized', 'importance', 'ethical', 'privacy', 'citing', 'recent', 'cases', 'misuse', 'various', 'industries', 'mentioned', 'that', 'users', 'were', 'affected', 'breach', 'last', 'year', 'resulting', 'damages', 'estimated', 'furthermore', 'highlighted', 'role', 'opensource', 'libraries', 'such', 'as', 'spacy', 'nltk', 'democratizing', 'access', 'natural', 'language', 'processing', 'tools', 'according', 'students', 'researchers', 'now', 'build', 'highquality', 'nlp', 'models', 'needing', 'large', 'financial', 'resources', 'is', 'not', 'just', 'machines', 'said', 'its', 'we', 'interact', 'technology', 'humancentered', 'way', 'after', 'session', 'attendees', 'universities', 'stanford', 'mit', 'oxford', 'approached', 'discuss', 'future', 'collaboration', 'opportunities', 'pm', 'posted', 'summary', 'twitter', 'receiving', 'likes', 'retweets', 'within', 'few', 'hours', 'tweet', 'included', 'hashtags', 'aiethics', 'dataprivacy', 'nlptools', 'event', 'concluded', 'panel', 'discussion', 'moderated', 'mr', 'john', 'lee', 'journalist', 'techworld', 'weekly', 'who', 'asked', 'governments', 'regulate', 'stifling', 'innovation']\n",
      "******************************************************************************************************************************************************\n",
      "Count of Rare Words: 123\n"
     ]
    }
   ],
   "source": [
    "# find rare words\n",
    "rare_words = [word for word, count in word_counts.items() if count < 2]\n",
    "print(\"Rare Words (Nadir Kelimeler):\\n\",rare_words)\n",
    "print(\"*\"*150)\n",
    "print(f\"Count of Rare Words: {len(rare_words)}\")"
   ]
  },
  {
   "cell_type": "code",
   "execution_count": 54,
   "id": "3bd93098",
   "metadata": {},
   "outputs": [
    {
     "name": "stdout",
     "output_type": "stream",
     "text": [
      "Rejoined String (Yeniden Birlestirilmis Metin): on january rd dr emily watson a senior data scientist at greenai inc gave a keynote speech at the international conference on artificial intelligence in paris france during her talk she emphasized the importance of ethical ai and data privacy citing recent cases of misuse in various industries she mentioned that over million users were affected by a data breach last year resulting in damages estimated at million furthermore she highlighted the role of opensource libraries such as spacy and nltk in democratizing access to natural language processing tools according to her students and researchers can now build highquality nlp models without needing large financial resources ai is not just about machines she said its about how we interact with technology in a humancentered way after the session attendees from universities like stanford mit and oxford approached her to discuss future collaboration opportunities at pm she posted a summary of her speech on twitter receiving over likes and retweets within a few hours her tweet included hashtags like aiethics dataprivacy and nlptools the event concluded with a panel discussion moderated by mr john lee a journalist from techworld weekly who asked how can governments regulate ai without stifling innovation\n",
      "******************************************************************************************************************************************************\n",
      "Cleaned String (Temizlenmis Metin): \n",
      " on january rd dr emily watson a senior data scientist at green in gave a denote speech at the international conference on artificial intelligence in paris france during her talk she emphasized the importance of ethical ai and data privacy biting recent cases of disuse in various industries she mentioned that over million users were affected by a data breach last year resulting in damages estimated at million furthermore she highlight the role of opensource libraries such as space and not in democratizing access to natural language processing tools according to her students and researches can now build highquality nap models without needing large financial resources ai is not just about machines she said its about how we interact with technology in a humancentered way after the session attended from universities like stanford it and oxford approached her to discuss future collaboration opportunities at pm she posted a summary of her speech on twitter receiving over likes and retreats within a few hours her sweet included hashtags like ethics dataprivacy and nlptools the event concluded with a panel discussion moderate by mr john lee a journalist from techworld weekly who asked how can governments regulate ai without stifling innovation\n",
      "Lenght of Cleaned String (Temizlenmis Metnin Uzunlugu):  1254\n"
     ]
    }
   ],
   "source": [
    "# 3.7. Fix typo (Yazim hatalari varsa duzelt)\n",
    "from textblob import TextBlob\n",
    "\n",
    "# use list comp correct_words = [str(Textblob(word).correct()) for word in splitted_words]\n",
    "rejoined_str = \" \".join(splitted_str)\n",
    "print(f\"Rejoined String (Yeniden Birlestirilmis Metin): {rejoined_str}\")\n",
    "print(\"*\"*150)\n",
    "\n",
    "cleaned_blob = TextBlob(rejoined_str).correct()\n",
    "\n",
    "cleaned_str = str(cleaned_blob)\n",
    "\n",
    "print(\"Cleaned String (Temizlenmis Metin): \\n\", cleaned_str)\n",
    "print(\"Lenght of Cleaned String (Temizlenmis Metnin Uzunlugu): \", len(cleaned_str))\n"
   ]
  },
  {
   "cell_type": "code",
   "execution_count": 55,
   "id": "d68aee99",
   "metadata": {},
   "outputs": [
    {
     "name": "stdout",
     "output_type": "stream",
     "text": [
      "Cleaned Splitted String (Bosluklarla Ayrilmis Temizlenmis Metin):\n",
      " ['on', 'january', 'rd', 'dr', 'emily', 'watson', 'a', 'senior', 'data', 'scientist', 'at', 'green', 'in', 'gave', 'a', 'denote', 'speech', 'at', 'the', 'international', 'conference', 'on', 'artificial', 'intelligence', 'in', 'paris', 'france', 'during', 'her', 'talk', 'she', 'emphasized', 'the', 'importance', 'of', 'ethical', 'ai', 'and', 'data', 'privacy', 'biting', 'recent', 'cases', 'of', 'disuse', 'in', 'various', 'industries', 'she', 'mentioned', 'that', 'over', 'million', 'users', 'were', 'affected', 'by', 'a', 'data', 'breach', 'last', 'year', 'resulting', 'in', 'damages', 'estimated', 'at', 'million', 'furthermore', 'she', 'highlight', 'the', 'role', 'of', 'opensource', 'libraries', 'such', 'as', 'space', 'and', 'not', 'in', 'democratizing', 'access', 'to', 'natural', 'language', 'processing', 'tools', 'according', 'to', 'her', 'students', 'and', 'researches', 'can', 'now', 'build', 'highquality', 'nap', 'models', 'without', 'needing', 'large', 'financial', 'resources', 'ai', 'is', 'not', 'just', 'about', 'machines', 'she', 'said', 'its', 'about', 'how', 'we', 'interact', 'with', 'technology', 'in', 'a', 'humancentered', 'way', 'after', 'the', 'session', 'attended', 'from', 'universities', 'like', 'stanford', 'it', 'and', 'oxford', 'approached', 'her', 'to', 'discuss', 'future', 'collaboration', 'opportunities', 'at', 'pm', 'she', 'posted', 'a', 'summary', 'of', 'her', 'speech', 'on', 'twitter', 'receiving', 'over', 'likes', 'and', 'retreats', 'within', 'a', 'few', 'hours', 'her', 'sweet', 'included', 'hashtags', 'like', 'ethics', 'dataprivacy', 'and', 'nlptools', 'the', 'event', 'concluded', 'with', 'a', 'panel', 'discussion', 'moderate', 'by', 'mr', 'john', 'lee', 'a', 'journalist', 'from', 'techworld', 'weekly', 'who', 'asked', 'how', 'can', 'governments', 'regulate', 'ai', 'without', 'stifling', 'innovation']\n",
      "******************************************************************************************************************************************************\n",
      "Length of Cleaned Splitted String (Bosluklarla Ayrilmis Temizlenmis Metnin Uzunlugu):  199\n"
     ]
    }
   ],
   "source": [
    "cleaned_splitted_str = cleaned_str.split()\n",
    "print(\"Cleaned Splitted String (Bosluklarla Ayrilmis Temizlenmis Metin):\\n\", cleaned_splitted_str)\n",
    "print(\"*\"*150)\n",
    "print(\"Length of Cleaned Splitted String (Bosluklarla Ayrilmis Temizlenmis Metnin Uzunlugu): \",len(cleaned_splitted_str))"
   ]
  },
  {
   "cell_type": "code",
   "execution_count": null,
   "id": "c8481046",
   "metadata": {},
   "outputs": [
    {
     "name": "stderr",
     "output_type": "stream",
     "text": [
      "[nltk_data] Downloading package punkt_tab to\n",
      "[nltk_data]     C:\\Users\\Asus\\AppData\\Roaming\\nltk_data...\n",
      "[nltk_data]   Unzipping tokenizers\\punkt_tab.zip.\n"
     ]
    },
    {
     "data": {
      "text/plain": [
       "True"
      ]
     },
     "execution_count": 51,
     "metadata": {},
     "output_type": "execute_result"
    }
   ],
   "source": [
    "# 3.8. Tokenization (Tokenlastirma): Metni parcalara bolecegiz, ister kelime kelime, ister cumle cumle\n",
    "nltk.download(\"punkt_tab\")"
   ]
  },
  {
   "cell_type": "code",
   "execution_count": 56,
   "id": "e66d3a77",
   "metadata": {},
   "outputs": [
    {
     "name": "stdout",
     "output_type": "stream",
     "text": [
      "Tokenized Word (Kelime Kelime Bolunen Metin):\n",
      " ['on', 'january', 'rd', 'dr', 'emily', 'watson', 'a', 'senior', 'data', 'scientist', 'at', 'greenai', 'inc', 'gave', 'a', 'keynote', 'speech', 'at', 'the', 'international', 'conference', 'on', 'artificial', 'intelligence', 'in', 'paris', 'france', 'during', 'her', 'talk', 'she', 'emphasized', 'the', 'importance', 'of', 'ethical', 'ai', 'and', 'data', 'privacy', 'citing', 'recent', 'cases', 'of', 'misuse', 'in', 'various', 'industries', 'she', 'mentioned', 'that', 'over', 'million', 'users', 'were', 'affected', 'by', 'a', 'data', 'breach', 'last', 'year', 'resulting', 'in', 'damages', 'estimated', 'at', 'million', 'furthermore', 'she', 'highlighted', 'the', 'role', 'of', 'opensource', 'libraries', 'such', 'as', 'spacy', 'and', 'nltk', 'in', 'democratizing', 'access', 'to', 'natural', 'language', 'processing', 'tools', 'according', 'to', 'her', 'students', 'and', 'researchers', 'can', 'now', 'build', 'highquality', 'nlp', 'models', 'without', 'needing', 'large', 'financial', 'resources', 'ai', 'is', 'not', 'just', 'about', 'machines', 'she', 'said', 'its', 'about', 'how', 'we', 'interact', 'with', 'technology', 'in', 'a', 'humancentered', 'way', 'after', 'the', 'session', 'attendees', 'from', 'universities', 'like', 'stanford', 'mit', 'and', 'oxford', 'approached', 'her', 'to', 'discuss', 'future', 'collaboration', 'opportunities', 'at', 'pm', 'she', 'posted', 'a', 'summary', 'of', 'her', 'speech', 'on', 'twitter', 'receiving', 'over', 'likes', 'and', 'retweets', 'within', 'a', 'few', 'hours', 'her', 'tweet', 'included', 'hashtags', 'like', 'aiethics', 'dataprivacy', 'and', 'nlptools', 'the', 'event', 'concluded', 'with', 'a', 'panel', 'discussion', 'moderated', 'by', 'mr', 'john', 'lee', 'a', 'journalist', 'from', 'techworld', 'weekly', 'who', 'asked', 'how', 'can', 'governments', 'regulate', 'ai', 'without', 'stifling', 'innovation']\n",
      "******************************************************************************************************************************************************\n",
      "Length of Tokenized Word (Kelime Kelime Ayrilmis Metnin Uzunlugu): 199 \n"
     ]
    }
   ],
   "source": [
    "from nltk.tokenize import sent_tokenize, word_tokenize\n",
    "\n",
    "tokenized_word = word_tokenize(rejoined_str)\n",
    "print(\"Tokenized Word (Kelime Kelime Bolunen Metin):\\n\", tokenized_word)\n",
    "print(\"*\"*150)\n",
    "print(f\"Length of Tokenized Word (Kelime Kelime Ayrilmis Metnin Uzunlugu): {len(tokenized_word)} \")"
   ]
  },
  {
   "cell_type": "code",
   "execution_count": 57,
   "id": "86224533",
   "metadata": {},
   "outputs": [
    {
     "name": "stderr",
     "output_type": "stream",
     "text": [
      "[nltk_data] Downloading package stopwords to\n",
      "[nltk_data]     C:\\Users\\Asus\\AppData\\Roaming\\nltk_data...\n"
     ]
    },
    {
     "name": "stdout",
     "output_type": "stream",
     "text": [
      "['a', 'about', 'above', 'after', 'again', 'against', 'ain', 'all', 'am', 'an', 'and', 'any', 'are', 'aren', \"aren't\", 'as', 'at', 'be', 'because', 'been', 'before', 'being', 'below', 'between', 'both', 'but', 'by', 'can', 'couldn', \"couldn't\", 'd', 'did', 'didn', \"didn't\", 'do', 'does', 'doesn', \"doesn't\", 'doing', 'don', \"don't\", 'down', 'during', 'each', 'few', 'for', 'from', 'further', 'had', 'hadn', \"hadn't\", 'has', 'hasn', \"hasn't\", 'have', 'haven', \"haven't\", 'having', 'he', \"he'd\", \"he'll\", 'her', 'here', 'hers', 'herself', \"he's\", 'him', 'himself', 'his', 'how', 'i', \"i'd\", 'if', \"i'll\", \"i'm\", 'in', 'into', 'is', 'isn', \"isn't\", 'it', \"it'd\", \"it'll\", \"it's\", 'its', 'itself', \"i've\", 'just', 'll', 'm', 'ma', 'me', 'mightn', \"mightn't\", 'more', 'most', 'mustn', \"mustn't\", 'my', 'myself', 'needn', \"needn't\", 'no', 'nor', 'not', 'now', 'o', 'of', 'off', 'on', 'once', 'only', 'or', 'other', 'our', 'ours', 'ourselves', 'out', 'over', 'own', 're', 's', 'same', 'shan', \"shan't\", 'she', \"she'd\", \"she'll\", \"she's\", 'should', 'shouldn', \"shouldn't\", \"should've\", 'so', 'some', 'such', 't', 'than', 'that', \"that'll\", 'the', 'their', 'theirs', 'them', 'themselves', 'then', 'there', 'these', 'they', \"they'd\", \"they'll\", \"they're\", \"they've\", 'this', 'those', 'through', 'to', 'too', 'under', 'until', 'up', 've', 'very', 'was', 'wasn', \"wasn't\", 'we', \"we'd\", \"we'll\", \"we're\", 'were', 'weren', \"weren't\", \"we've\", 'what', 'when', 'where', 'which', 'while', 'who', 'whom', 'why', 'will', 'with', 'won', \"won't\", 'wouldn', \"wouldn't\", 'y', 'you', \"you'd\", \"you'll\", 'your', \"you're\", 'yours', 'yourself', 'yourselves', \"you've\"]\n"
     ]
    },
    {
     "name": "stderr",
     "output_type": "stream",
     "text": [
      "[nltk_data]   Unzipping corpora\\stopwords.zip.\n"
     ]
    }
   ],
   "source": [
    "# 3.8. Find Stop Words (Kendi Basina Cok Anlami Olmayan Kelimelerin Bulunmasi)\n",
    "from nltk.corpus import stopwords\n",
    "\n",
    "# download\n",
    "nltk.download(\"stopwords\")\n",
    "\n",
    "sw = stopwords.words(\"english\")\n",
    "print(sw)"
   ]
  },
  {
   "cell_type": "code",
   "execution_count": 59,
   "id": "c4c1e0ac",
   "metadata": {},
   "outputs": [
    {
     "name": "stdout",
     "output_type": "stream",
     "text": [
      "Without Stopwords:\n",
      "\n",
      "  ['january', 'rd', 'dr', 'emily', 'watson', 'senior', 'data', 'scientist', 'greenai', 'inc', 'gave', 'keynote', 'speech', 'international', 'conference', 'artificial', 'intelligence', 'paris', 'france', 'talk', 'emphasized', 'importance', 'ethical', 'ai', 'data', 'privacy', 'citing', 'recent', 'cases', 'misuse', 'various', 'industries', 'mentioned', 'million', 'users', 'affected', 'data', 'breach', 'last', 'year', 'resulting', 'damages', 'estimated', 'million', 'furthermore', 'highlighted', 'role', 'opensource', 'libraries', 'spacy', 'nltk', 'democratizing', 'access', 'natural', 'language', 'processing', 'tools', 'according', 'students', 'researchers', 'build', 'highquality', 'nlp', 'models', 'without', 'needing', 'large', 'financial', 'resources', 'ai', 'machines', 'said', 'interact', 'technology', 'humancentered', 'way', 'session', 'attendees', 'universities', 'like', 'stanford', 'mit', 'oxford', 'approached', 'discuss', 'future', 'collaboration', 'opportunities', 'pm', 'posted', 'summary', 'speech', 'twitter', 'receiving', 'likes', 'retweets', 'within', 'hours', 'tweet', 'included', 'hashtags', 'like', 'aiethics', 'dataprivacy', 'nlptools', 'event', 'concluded', 'panel', 'discussion', 'moderated', 'mr', 'john', 'lee', 'journalist', 'techworld', 'weekly', 'asked', 'governments', 'regulate', 'ai', 'without', 'stifling', 'innovation']\n",
      "******************************************************************************************************************************************************\n",
      "Length of Without Stopwords (Stopword Olmayan Listenin Uzunlugu):123\n"
     ]
    }
   ],
   "source": [
    "without_stopwords = []\n",
    "[without_stopwords.append(word) for word in tokenized_word if word not in sw]\n",
    "\"\"\"\n",
    "Other way\n",
    "for word in tokenized_word:\n",
    "    if word not in sw:\n",
    "        without_stopwords.append(word)\"\"\"\n",
    "        \n",
    "print(\"Without Stopwords:\\n\\n \",without_stopwords)\n",
    "print(\"*\"*150)\n",
    "print(f\"Length of Without Stopwords (Stopword Olmayan Listenin Uzunlugu):{len(without_stopwords)}\")"
   ]
  },
  {
   "cell_type": "code",
   "execution_count": 60,
   "id": "4c29214b",
   "metadata": {},
   "outputs": [],
   "source": [
    "# 3.9. Stemming (Kok Bulma):\n",
    "from nltk import PorterStemmer\n",
    "\n",
    "# create an instance\n",
    "stm = PorterStemmer()"
   ]
  },
  {
   "cell_type": "code",
   "execution_count": 61,
   "id": "231f082f",
   "metadata": {},
   "outputs": [
    {
     "name": "stdout",
     "output_type": "stream",
     "text": [
      "******************** Word Stems ******************** \n",
      "\n",
      "['januari', 'rd', 'dr', 'emili', 'watson', 'senior', 'data', 'scientist', 'greenai', 'inc', 'gave', 'keynot', 'speech', 'intern', 'confer', 'artifici', 'intellig', 'pari', 'franc', 'talk', 'emphas', 'import', 'ethic', 'ai', 'data', 'privaci', 'cite', 'recent', 'case', 'misus', 'variou', 'industri', 'mention', 'million', 'user', 'affect', 'data', 'breach', 'last', 'year', 'result', 'damag', 'estim', 'million', 'furthermor', 'highlight', 'role', 'opensourc', 'librari', 'spaci', 'nltk', 'democrat', 'access', 'natur', 'languag', 'process', 'tool', 'accord', 'student', 'research', 'build', 'highqual', 'nlp', 'model', 'without', 'need', 'larg', 'financi', 'resourc', 'ai', 'machin', 'said', 'interact', 'technolog', 'humancent', 'way', 'session', 'attende', 'univers', 'like', 'stanford', 'mit', 'oxford', 'approach', 'discuss', 'futur', 'collabor', 'opportun', 'pm', 'post', 'summari', 'speech', 'twitter', 'receiv', 'like', 'retweet', 'within', 'hour', 'tweet', 'includ', 'hashtag', 'like', 'aiethic', 'dataprivaci', 'nlptool', 'event', 'conclud', 'panel', 'discuss', 'moder', 'mr', 'john', 'lee', 'journalist', 'techworld', 'weekli', 'ask', 'govern', 'regul', 'ai', 'without', 'stifl', 'innov']\n",
      "Length of With Stem: 123\n"
     ]
    }
   ],
   "source": [
    "# get stems from without stopwords\n",
    "with_stem = [stm.stem(word) for word in without_stopwords]\n",
    "\n",
    "# print with_stem (Koklerini yazdir)\n",
    "print(\"******************** Word Stems ******************** \\n\")\n",
    "print(with_stem)\n",
    "\n",
    "len_with_stem = len(with_stem)\n",
    "print(f\"Length of With Stem: {len_with_stem}\")"
   ]
  },
  {
   "cell_type": "code",
   "execution_count": 63,
   "id": "28c57d8b",
   "metadata": {},
   "outputs": [
    {
     "name": "stdout",
     "output_type": "stream",
     "text": [
      "*************** Word Stems ***************\n",
      "['januari', 'rd', 'dr', 'emili', 'watson', 'senior', 'data', 'scientist', 'greenai', 'inc', 'gave', 'keynot', 'speech', 'intern', 'confer', 'artifici', 'intellig', 'pari', 'franc', 'talk', 'emphas', 'import', 'ethic', 'ai', 'data', 'privaci', 'cite', 'recent', 'case', 'misus', 'variou', 'industri', 'mention', 'million', 'user', 'affect', 'data', 'breach', 'last', 'year', 'result', 'damag', 'estim', 'million', 'furthermor', 'highlight', 'role', 'opensourc', 'librari', 'spaci', 'nltk', 'democrat', 'access', 'natur', 'languag', 'process', 'tool', 'accord', 'student', 'research', 'build', 'highqual', 'nlp', 'model', 'without', 'need', 'larg', 'financi', 'resourc', 'ai', 'machin', 'said', 'interact', 'technolog', 'humancent', 'way', 'session', 'attende', 'univers', 'like', 'stanford', 'mit', 'oxford', 'approach', 'discuss', 'futur', 'collabor', 'opportun', 'pm', 'post', 'summari', 'speech', 'twitter', 'receiv', 'like', 'retweet', 'within', 'hour', 'tweet', 'includ', 'hashtag', 'like', 'aiethic', 'dataprivaci', 'nlptool', 'event', 'conclud', 'panel', 'discuss', 'moder', 'mr', 'john', 'lee', 'journalist', 'techworld', 'weekli', 'ask', 'govern', 'regul', 'ai', 'without', 'stifl', 'innov']\n",
      "\n",
      "\n",
      " **************************************************\n",
      "\n",
      "*************** Lemmatize Words ***************\n",
      "['january', 'rd', 'dr', 'emily', 'watson', 'senior', 'data', 'scientist', 'greenai', 'inc', 'gave', 'keynote', 'speech', 'international', 'conference', 'artificial', 'intelligence', 'paris', 'france', 'talk', 'emphasized', 'importance', 'ethical', 'ai', 'data', 'privacy', 'citing', 'recent', 'case', 'misuse', 'various', 'industry', 'mentioned', 'million', 'user', 'affected', 'data', 'breach', 'last', 'year', 'resulting', 'damage', 'estimated', 'million', 'furthermore', 'highlighted', 'role', 'opensource', 'library', 'spacy', 'nltk', 'democratizing', 'access', 'natural', 'language', 'processing', 'tool', 'according', 'student', 'researcher', 'build', 'highquality', 'nlp', 'model', 'without', 'needing', 'large', 'financial', 'resource', 'ai', 'machine', 'said', 'interact', 'technology', 'humancentered', 'way', 'session', 'attendee', 'university', 'like', 'stanford', 'mit', 'oxford', 'approached', 'discus', 'future', 'collaboration', 'opportunity', 'pm', 'posted', 'summary', 'speech', 'twitter', 'receiving', 'like', 'retweets', 'within', 'hour', 'tweet', 'included', 'hashtags', 'like', 'aiethics', 'dataprivacy', 'nlptools', 'event', 'concluded', 'panel', 'discussion', 'moderated', 'mr', 'john', 'lee', 'journalist', 'techworld', 'weekly', 'asked', 'government', 'regulate', 'ai', 'without', 'stifling', 'innovation']\n"
     ]
    }
   ],
   "source": [
    "# 3.10. Lemmanization (Gercek Koku Bulma)\n",
    "from nltk.stem import WordNetLemmatizer\n",
    "from nltk.corpus import wordnet\n",
    "\n",
    "# create an instance from WordNetLemmatizer\n",
    "lemmatizer = WordNetLemmatizer()\n",
    "\n",
    "lemmatization_words = [lemmatizer.lemmatize(word) for word in without_stopwords]\n",
    "print(\"*************** Word Stems ***************\")\n",
    "print(with_stem)\n",
    "print(\"\\n\\n\",\"*\"*50)\n",
    "\n",
    "print(\"\\n*************** Lemmatize Words ***************\")\n",
    "print(lemmatization_words)"
   ]
  },
  {
   "cell_type": "code",
   "execution_count": null,
   "id": "9117cd66",
   "metadata": {},
   "outputs": [],
   "source": []
  }
 ],
 "metadata": {
  "kernelspec": {
   "display_name": "base",
   "language": "python",
   "name": "python3"
  },
  "language_info": {
   "codemirror_mode": {
    "name": "ipython",
    "version": 3
   },
   "file_extension": ".py",
   "mimetype": "text/x-python",
   "name": "python",
   "nbconvert_exporter": "python",
   "pygments_lexer": "ipython3",
   "version": "3.11.7"
  }
 },
 "nbformat": 4,
 "nbformat_minor": 5
}
