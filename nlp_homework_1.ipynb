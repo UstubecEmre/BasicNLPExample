{
 "cells": [
  {
   "cell_type": "markdown",
   "id": "34ed4f1b",
   "metadata": {},
   "source": [
    "# 1. Business Understanding (İşin Anlaşılması):\n",
    "\n",
    "Basit bir metin üzerinde Doğal Dil İşleme uygulaması gerçekleştireceğiz.\n",
    "\n",
    "Burada istenilen konuların pekiştirilmesi amaçlanmaktadır.\n",
    "\n",
    "> O konular da şu şekildedir:\n",
    "\n",
    "Metin üzerinde veri ön işleme aşamalarının gerçekleştirilmesi amaçlanmaktadır.\n",
    "\n",
    "Bu ön işleme adımları şu şekilde olabilir:\n",
    "\n",
    "-- Fazla boşlukların silinmesi, \n",
    "\n",
    "-- Büyük küçük harf dönüşümleri\n",
    "\n",
    "-- Noktalama işaretlerinin kaldırılması (Removing Punctuation)\n",
    "\n",
    "-- Özel karakterlerin kaldırılması\n",
    "\n",
    "-- Yazım hatalarının düzeltilmesi\n",
    "\n",
    "-- HTML ve URL temizleme işlemleri\n",
    "\n",
    "\n",
    "> Önemli Notlar:\n",
    "\n",
    "<mark><em>Removing Stopwords</em></mark> → Genellikle metin içerisinde anlamı çok az olan yani etkisi çok sınırlı, edat, bağlaç vb. cümlenin ögeleridir. \"the\",\"with\", \"on\", \"at\" etc. örnek verilebilir.\n",
    "\n",
    "\n",
    "Sonraki aşamalardan birisi de\n",
    "\n",
    "> <mark><em>Tokenizasyon</em></mark>: Metni daha küçük parçalara ayırma işlemidir.\n",
    "\n",
    "Bunlar bildiğiniz üzere farklı şekilde ayrılabilir.\n",
    "\n",
    "Kelime kelime, cümle cümle veya karakter karakter gibi ayrımlar yapılabilir.\n",
    "\n",
    "\n",
    "Bir diğer kavram olarak da karşımıza Lemmatization <mark><b>(Gövdeleme)</b></mark> ve <mark><b>Stemming (Kök Bulmak)</b></mark> çıkmaktadır:\n",
    "\n",
    "Bildiğiniz üzere dilimizde de kök, gövde gibi kavramlar bulunmaktadır.İlkokul veya ortaokul yıllarımıza dönersek:\n",
    "\n",
    "=> Yapım eki almamış ve başka bir sözcükle birleşmemiş sözcükler köktür. \n",
    "\n",
    "Örneğin sev\n",
    "\n",
    "=> Yapım eki almış ya da başka bir sözcükle birleşmiş sözcükler gövdedir.\n",
    "\n",
    "Örneğin sevgi\n",
    "\n",
    "\n",
    "İlerleyen aşamalarda da:\n",
    "\n",
    "- Named Entity Recognition (NER) → Kişi adları, yer adları, kurumlar vb. tespitinin gerçekleştirilmesi\n",
    "\n",
    "- Part-of-Speech (POS) Tagging → Her kelimenin türünün belirlenmesi (isim mi, fiil mi, sıfat mı, zarf mı...)\n",
    "\n",
    "- Word Frequency Count → En sık geçen kelimelerin tespit edilmesi\n",
    "\n",
    "- Text Visualization → Word cloud, bar chart vb. görselleştirme teknikleri veya araçlarıyla kelimelerin görselleştirilmesi\n",
    "\n"
   ]
  },
  {
   "cell_type": "code",
   "execution_count": 1,
   "id": "62eaeea5",
   "metadata": {},
   "outputs": [
    {
     "name": "stderr",
     "output_type": "stream",
     "text": [
      "[nltk_data] Downloading package punkt to\n",
      "[nltk_data]     C:\\Users\\Asus\\AppData\\Roaming\\nltk_data...\n",
      "[nltk_data]   Unzipping tokenizers\\punkt.zip.\n",
      "[nltk_data] Downloading package wordnet to\n",
      "[nltk_data]     C:\\Users\\Asus\\AppData\\Roaming\\nltk_data...\n",
      "[nltk_data] Downloading package omw-1.4 to\n",
      "[nltk_data]     C:\\Users\\Asus\\AppData\\Roaming\\nltk_data...\n"
     ]
    }
   ],
   "source": [
    "# import required libraries (Gerekli kutuphane kurulumlari)\n",
    "\n",
    "# for linear algebra (lineer cebir icin)\n",
    "import numpy as np\n",
    "\n",
    "# for data manipulation (veri manipulasyonu)\n",
    "import pandas as pd\n",
    "\n",
    "# for data visualization\n",
    "import matplotlib.pyplot as plt\n",
    "import seaborn as sns #\n",
    "\n",
    "# for NLP\n",
    "import nltk\n",
    "nltk.download('punkt')\n",
    "nltk.download('wordnet')\n",
    "nltk.download('omw-1.4')\n",
    "\n",
    "\n",
    "# for word preprocessing\n",
    "from textblob import Word, TextBlob\n",
    "\n",
    "# for word visualization\n",
    "from wordcloud import WordCloud \n",
    "\n",
    "# set warning options \n",
    "from warnings import filterwarnings\n",
    "filterwarnings('ignore')"
   ]
  },
  {
   "cell_type": "markdown",
   "id": "e8870244",
   "metadata": {},
   "source": [
    "# 2. Data Understanding (Verinin Anlaşılması):\n",
    "NLP (Natural Language Processing = Doğal Dil İşleme) alanına benim gibi yeni başlayanlar için faydalı olacağını düşündüğüm bir konferans konuşmasının analiz edilmesini içermektedir.\n",
    "\n",
    "Emily Watson tarafından gerçekleştirilen konferansta özetle, doğal dil işleme kütüphaneleri sayesinde çok fazla finansal güce sahip olunmasının gerekli olmadığı, katıldığı çeşitli etkinliklerde yapay zekanın gelecekteki işbirlik fırsatlarına yönelik tartışmalarda bulunduğu ve bunun çeşitli platformlarda etki bıraktığı olarak özetleyebilirim."
   ]
  },
  {
   "cell_type": "code",
   "execution_count": null,
   "id": "32b4ab89",
   "metadata": {},
   "outputs": [],
   "source": [
    "example_str = '''On January 3rd, 2023, Dr. Emily Watson, a senior data scientist at GreenAI Inc., gave a keynote speech at the International Conference on Artificial Intelligence in Paris, France. During her talk, she emphasized the importance of ethical AI and data privacy, citing recent cases of misuse in various industries.\n",
    "\n",
    "She mentioned that over 3.2 million users were affected by a data breach last year, resulting in damages estimated at $12.5 million. Furthermore, she highlighted the role of open-source libraries, such as spaCy and NLTK, in democratizing access to natural language processing tools. According to her, students and researchers can now build high-quality NLP models without needing large financial resources.\n",
    "\n",
    "\"AI is not just about machines,\" she said, \"it's about how we interact with technology in a human-centered way.\" After the session, attendees from universities like Stanford, MIT, and Oxford approached her to discuss future collaboration opportunities.\n",
    "\n",
    "At 5:45 PM, she posted a summary of her speech on Twitter, receiving over 8,000 likes and 1,200 retweets within a few hours. Her tweet included hashtags like #AIethics, #DataPrivacy, and #NLPtools.\n",
    "\n",
    "The event concluded with a panel discussion moderated by Mr. John Lee, a journalist from TechWorld Weekly, who asked, “How can governments regulate AI without stifling innovation?''' "
   ]
  },
  {
   "cell_type": "markdown",
   "id": "689bea45",
   "metadata": {},
   "source": [
    "# 3. Data Preparing and Preprocessing (Verinin Hazırlanması ve Önişlenmesi):\n",
    "Verimizi, işin anlaşılması kısmında da dile getirdiğimiz gibi makinenin anlayabileceği bir formata getirmemiz gerekmektedir. \n",
    "\n",
    "Makineler, 0 ve 1'lerden anlar diye boşuna demiyorlar:)"
   ]
  },
  {
   "cell_type": "code",
   "execution_count": 4,
   "id": "f40349cf",
   "metadata": {},
   "outputs": [
    {
     "name": "stdout",
     "output_type": "stream",
     "text": [
      "Data size without pre-processing (Veri önişleme öncesi boyutu): 1353\n"
     ]
    }
   ],
   "source": [
    "example_str_len = len(example_str)\n",
    "print(f\"Data size without pre-processing (Veri önişleme öncesi boyutu): {example_str_len}\")"
   ]
  },
  {
   "cell_type": "code",
   "execution_count": null,
   "id": "7c35131a",
   "metadata": {},
   "outputs": [
    {
     "name": "stdout",
     "output_type": "stream",
     "text": [
      "Converted String:\n",
      " on january 3rd, 2023, dr. emily watson, a senior data scientist at greenai inc., gave a keynote speech at the international conference on artificial intelligence in paris, france. during her talk, she emphasized the importance of ethical ai and data privacy, citing recent cases of misuse in various industries.\n",
      "\n",
      "she mentioned that over 3.2 million users were affected by a data breach last year, resulting in damages estimated at $12.5 million. furthermore, she highlighted the role of open-source libraries, such as spacy and nltk, in democratizing access to natural language processing tools. according to her, students and researchers can now build high-quality nlp models without needing large financial resources.\n",
      "\n",
      "\"ai is not just about machines,\" she said, \"it’s about how we interact with technology in a human-centered way.\" after the session, attendees from universities like stanford, mit, and oxford approached her to discuss future collaboration opportunities.\n",
      "\n",
      "at 5:45 pm, she posted a summary of her speech on twitter, receiving over 8,000 likes and 1,200 retweets within a few hours. her tweet included hashtags like #aiethics, #dataprivacy, and #nlptools.\n",
      "\n",
      "the event concluded with a panel discussion moderated by mr. john lee, a journalist from techworld weekly, who asked, “how can governments regulate ai without stifling innovation?\n",
      "**************************************************************************************************** \n",
      "\n",
      "Length of Lower Example: 1353\n"
     ]
    }
   ],
   "source": [
    "# 3.1. Convert all to lowercase (Hepsini kucuk harfe donustur)\n",
    "lower_example_str = example_str.lower()\n",
    "print(\"Converted String:\\n\", lower_example_str)\n",
    "print(\"*\"*100,\"\\n\")\n",
    "len_lower_example_str = len(lower_example_str)\n",
    "print(f\"Length of Lower Example: {len_lower_example_str}\")"
   ]
  },
  {
   "cell_type": "code",
   "execution_count": null,
   "id": "b503a52e",
   "metadata": {},
   "outputs": [
    {
     "name": "stdout",
     "output_type": "stream",
     "text": [
      "Punctuations: !\"#$%&'()*+,-./:;<=>?@[\\]^_`{|}~\n"
     ]
    }
   ],
   "source": [
    "# 3.2. Remove punctuations (Ozel isaretlerin kaldirilmasi)\n",
    "from string import punctuation\n",
    "\n",
    "print(f\"Punctuations: {punctuation}\")\n",
    "\n",
    "\n",
    "#trimmed_str = lower_example_str.strip()\n",
    "#trimmed_str"
   ]
  },
  {
   "cell_type": "markdown",
   "id": "551e4528",
   "metadata": {},
   "source": [
    "\"\"\"\n",
    "\n",
    "Some Basic RegEx (Bazı Basit Regular Expression'lar)\n",
    "<mark>regex (regular expressions)</mark>\n",
    "\n",
    "    ^ => starts with (baslar)\n",
    "\n",
    "    $ => ends with (biter)\n",
    "    \n",
    "    \\w => Returns a match where the string contains any word characters \n",
    "        (characters from a to Z, digits from 0-9, and the underscore _ character) (alfanumerikleri (0-9, a-Z) döndürür)    \n",
    "    \n",
    "    \\W => \tReturns a match where the string DOES NOT contain any word characters\n",
    "    \n",
    "    \\s =>\tReturns a match where the string contains a white space character (Space yani bosluk karakterini ifade eder)\n",
    "    \n",
    "    [] => \tA set of characters example \t\"[a-m]\" => Bir karakter setini ifade eder. Örnekte de a'dan m'ye kadar anlamına gelir.\n",
    "\"\"\""
   ]
  },
  {
   "cell_type": "code",
   "execution_count": 19,
   "id": "ffdce048",
   "metadata": {},
   "outputs": [
    {
     "name": "stdout",
     "output_type": "stream",
     "text": [
      "String Without Punctuation Marks (Noktalama Isaretsiz Metin):\n",
      "\n",
      " on january 3rd 2023 dr emily watson a senior data scientist at greenai inc gave a keynote speech at the international conference on artificial intelligence in paris france during her talk she emphasized the importance of ethical ai and data privacy citing recent cases of misuse in various industries\n",
      "\n",
      "she mentioned that over 32 million users were affected by a data breach last year resulting in damages estimated at 125 million furthermore she highlighted the role of opensource libraries such as spacy and nltk in democratizing access to natural language processing tools according to her students and researchers can now build highquality nlp models without needing large financial resources\n",
      "\n",
      "ai is not just about machines she said its about how we interact with technology in a humancentered way after the session attendees from universities like stanford mit and oxford approached her to discuss future collaboration opportunities\n",
      "\n",
      "at 545 pm she posted a summary of her speech on twitter receiving over 8000 likes and 1200 retweets within a few hours her tweet included hashtags like aiethics dataprivacy and nlptools\n",
      "\n",
      "the event concluded with a panel discussion moderated by mr john lee a journalist from techworld weekly who asked how can governments regulate ai without stifling innovation\n"
     ]
    }
   ],
   "source": [
    "import re \n",
    "\n",
    "non_punctuation_str = re.sub(r\"[^\\w\\s]\", \"\",lower_example_str)\n",
    "print(f\"String Without Punctuation Marks (Noktalama Isaretsiz Metin):\\n\\n {non_punctuation_str}\")"
   ]
  },
  {
   "cell_type": "code",
   "execution_count": 20,
   "id": "4f519ccb",
   "metadata": {},
   "outputs": [
    {
     "name": "stdout",
     "output_type": "stream",
     "text": [
      "Length of string without punctuation marks (Noktalama Isaretsiz Metnin Uzunlugu): 1298\n"
     ]
    }
   ],
   "source": [
    "len_non_puctuation_str = len(non_punctuation_str)\n",
    "print(f\"Length of string without punctuation marks (Noktalama Isaretsiz Metnin Uzunlugu): {len_non_puctuation_str}\")"
   ]
  },
  {
   "cell_type": "code",
   "execution_count": null,
   "id": "2835aad2",
   "metadata": {},
   "outputs": [
    {
     "name": "stdout",
     "output_type": "stream",
     "text": [
      "text with non-numeric punctuation removed (Noktalama Isaretleri ve Sayilar Kaldirilmis Metin): \n",
      "\n",
      "on january rd  dr emily watson a senior data scientist at greenai inc gave a keynote speech at the international conference on artificial intelligence in paris france during her talk she emphasized the importance of ethical ai and data privacy citing recent cases of misuse in various industries\n",
      "\n",
      "she mentioned that over  million users were affected by a data breach last year resulting in damages estimated at  million furthermore she highlighted the role of opensource libraries such as spacy and nltk in democratizing access to natural language processing tools according to her students and researchers can now build highquality nlp models without needing large financial resources\n",
      "\n",
      "ai is not just about machines she said its about how we interact with technology in a humancentered way after the session attendees from universities like stanford mit and oxford approached her to discuss future collaboration opportunities\n",
      "\n",
      "at  pm she posted a summary of her speech on twitter receiving over  likes and  retweets within a few hours her tweet included hashtags like aiethics dataprivacy and nlptools\n",
      "\n",
      "the event concluded with a panel discussion moderated by mr john lee a journalist from techworld weekly who asked how can governments regulate ai without stifling innovation\n",
      "****************************************************************************************************************************************************** \n",
      "\n",
      "Length of Numberless String: 1277\n"
     ]
    }
   ],
   "source": [
    "# 3.3. Remove numbers (Sayilari kaldir)\n",
    "numberless_str = re.sub(r\"\\d+\", \"\", non_punctuation_str)\n",
    "print(\"text with non-numeric punctuation removed (Noktalama Isaretleri ve Sayilar Kaldirilmis Metin): \\n\")\n",
    "print(numberless_str)\n",
    "print(\"*\"*150,\"\\n\")\n",
    "len_numberless_str = len(numberless_str)\n",
    "print(f\"Length of Numberless String: {len_numberless_str}\")"
   ]
  },
  {
   "cell_type": "code",
   "execution_count": null,
   "id": "017fae55",
   "metadata": {},
   "outputs": [
    {
     "name": "stdout",
     "output_type": "stream",
     "text": [
      "Without Extra Spaces String:\n",
      "\n",
      " on january rd dr emily watson a senior data scientist at greenai inc gave a keynote speech at the international conference on artificial intelligence in paris france during her talk she emphasized the importance of ethical ai and data privacy citing recent cases of misuse in various industries she mentioned that over million users were affected by a data breach last year resulting in damages estimated at million furthermore she highlighted the role of opensource libraries such as spacy and nltk in democratizing access to natural language processing tools according to her students and researchers can now build highquality nlp models without needing large financial resources ai is not just about machines she said its about how we interact with technology in a humancentered way after the session attendees from universities like stanford mit and oxford approached her to discuss future collaboration opportunities at pm she posted a summary of her speech on twitter receiving over likes and retweets within a few hours her tweet included hashtags like aiethics dataprivacy and nlptools the event concluded with a panel discussion moderated by mr john lee a journalist from techworld weekly who asked how can governments regulate ai without stifling innovation\n",
      "******************************************************************************************************************************************************\n",
      "Length of Without Extra Spaces String: 1267\n"
     ]
    }
   ],
   "source": [
    "# 3.4. Removing extra spaces (Fazla olan boşlukların temizlenmesi):\n",
    "without_extra_spaces_str = re.sub(r'\\s+', ' ', numberless_str)\n",
    "print(f\"Without Extra Spaces String:\\n\\n {without_extra_spaces_str}\")\n",
    "\n",
    "print(\"*\"*150)\n",
    "len_without_extra_spaces = len(without_extra_spaces_str)\n",
    "print(f\"Length of Without Extra Spaces String: {len_without_extra_spaces}\")"
   ]
  },
  {
   "cell_type": "code",
   "execution_count": null,
   "id": "cec7e411",
   "metadata": {},
   "outputs": [
    {
     "name": "stdout",
     "output_type": "stream",
     "text": [
      "1267\n"
     ]
    }
   ],
   "source": [
    "# Check (Kontrol edelim, basta ve sonda bosluk kaldi mi)\n",
    "without_extra_spaces_str = without_extra_spaces_str.strip()\n",
    "print(len(without_extra_spaces_str))"
   ]
  },
  {
   "cell_type": "code",
   "execution_count": null,
   "id": "4a807c8d",
   "metadata": {},
   "outputs": [
    {
     "name": "stdout",
     "output_type": "stream",
     "text": [
      "Splitted String:\n",
      "\n",
      " ['on', 'january', 'rd', 'dr', 'emily', 'watson', 'a', 'senior', 'data', 'scientist', 'at', 'greenai', 'inc', 'gave', 'a', 'keynote', 'speech', 'at', 'the', 'international', 'conference', 'on', 'artificial', 'intelligence', 'in', 'paris', 'france', 'during', 'her', 'talk', 'she', 'emphasized', 'the', 'importance', 'of', 'ethical', 'ai', 'and', 'data', 'privacy', 'citing', 'recent', 'cases', 'of', 'misuse', 'in', 'various', 'industries', 'she', 'mentioned', 'that', 'over', 'million', 'users', 'were', 'affected', 'by', 'a', 'data', 'breach', 'last', 'year', 'resulting', 'in', 'damages', 'estimated', 'at', 'million', 'furthermore', 'she', 'highlighted', 'the', 'role', 'of', 'opensource', 'libraries', 'such', 'as', 'spacy', 'and', 'nltk', 'in', 'democratizing', 'access', 'to', 'natural', 'language', 'processing', 'tools', 'according', 'to', 'her', 'students', 'and', 'researchers', 'can', 'now', 'build', 'highquality', 'nlp', 'models', 'without', 'needing', 'large', 'financial', 'resources', 'ai', 'is', 'not', 'just', 'about', 'machines', 'she', 'said', 'its', 'about', 'how', 'we', 'interact', 'with', 'technology', 'in', 'a', 'humancentered', 'way', 'after', 'the', 'session', 'attendees', 'from', 'universities', 'like', 'stanford', 'mit', 'and', 'oxford', 'approached', 'her', 'to', 'discuss', 'future', 'collaboration', 'opportunities', 'at', 'pm', 'she', 'posted', 'a', 'summary', 'of', 'her', 'speech', 'on', 'twitter', 'receiving', 'over', 'likes', 'and', 'retweets', 'within', 'a', 'few', 'hours', 'her', 'tweet', 'included', 'hashtags', 'like', 'aiethics', 'dataprivacy', 'and', 'nlptools', 'the', 'event', 'concluded', 'with', 'a', 'panel', 'discussion', 'moderated', 'by', 'mr', 'john', 'lee', 'a', 'journalist', 'from', 'techworld', 'weekly', 'who', 'asked', 'how', 'can', 'governments', 'regulate', 'ai', 'without', 'stifling', 'innovation']\n"
     ]
    }
   ],
   "source": [
    "splitted_str = without_extra_spaces_str.split()\n",
    "print(f\"Splitted String:\\n\\n {splitted_str}\")\n",
    "\n",
    "len_splitted_str = len(splitted_str)"
   ]
  },
  {
   "cell_type": "code",
   "execution_count": null,
   "id": "355dae90",
   "metadata": {},
   "outputs": [],
   "source": [
    "# 3.6. Find rare words (Ender Kelimeleri Bul)\n",
    "from collections import Counter\n",
    "\n",
    "word_counts = "
   ]
  }
 ],
 "metadata": {
  "kernelspec": {
   "display_name": "base",
   "language": "python",
   "name": "python3"
  },
  "language_info": {
   "codemirror_mode": {
    "name": "ipython",
    "version": 3
   },
   "file_extension": ".py",
   "mimetype": "text/x-python",
   "name": "python",
   "nbconvert_exporter": "python",
   "pygments_lexer": "ipython3",
   "version": "3.11.7"
  }
 },
 "nbformat": 4,
 "nbformat_minor": 5
}
